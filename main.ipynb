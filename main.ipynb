{
 "cells": [
  {
   "cell_type": "code",
   "execution_count": 13,
   "metadata": {},
   "outputs": [],
   "source": [
    "#import\n",
    "from time import time\n",
    "from tdmclient import ClientAsync, aw\n",
    "import time\n",
    "import cv2 as cv2\n",
    "import keyboard\n",
    "import math\n",
    "\n",
    "from Codes.utils.data import *\n",
    "from Codes.utils.communication import *\n",
    "from Codes.kalman_filter import *\n",
    "from Codes.motion_control import *\n",
    "from Codes.obstacle_avoidance import *\n",
    "from Codes.camera import *\n",
    "import cv2.aruco as aruco"
   ]
  },
  {
   "cell_type": "code",
   "execution_count": 12,
   "metadata": {},
   "outputs": [],
   "source": [
    "#pip install keyboard\n",
    "#pip install opencv-python\n",
    "#!pip install opencv-contrib-python"
   ]
  },
  {
   "cell_type": "code",
   "execution_count": 14,
   "metadata": {},
   "outputs": [
    {
     "name": "stdout",
     "output_type": "stream",
     "text": [
      "Camera OK\n"
     ]
    },
    {
     "ename": "TypeError",
     "evalue": "check_if_goal_reached() takes 2 positional arguments but 3 were given",
     "output_type": "error",
     "traceback": [
      "\u001b[1;31m---------------------------------------------------------------------------\u001b[0m",
      "\u001b[1;31mTypeError\u001b[0m                                 Traceback (most recent call last)",
      "\u001b[1;32mc:\\Users\\laeti\\Documents\\EPFL\\Master\\Cours MA1\\Mobile robotics\\Projet\\BOMR_Project\\main.ipynb Cell 3\u001b[0m line \u001b[0;36m2\n\u001b[0;32m     <a href='vscode-notebook-cell:/c%3A/Users/laeti/Documents/EPFL/Master/Cours%20MA1/Mobile%20robotics/Projet/BOMR_Project/main.ipynb#X14sZmlsZQ%3D%3D?line=21'>22</a>\u001b[0m \u001b[39mif\u001b[39;00m goal_pos \u001b[39m!=\u001b[39m (\u001b[39m0\u001b[39m, \u001b[39m0\u001b[39m):\n\u001b[0;32m     <a href='vscode-notebook-cell:/c%3A/Users/laeti/Documents/EPFL/Master/Cours%20MA1/Mobile%20robotics/Projet/BOMR_Project/main.ipynb#X14sZmlsZQ%3D%3D?line=22'>23</a>\u001b[0m     last_known_goal_pos \u001b[39m=\u001b[39m goal_pos\n\u001b[1;32m---> <a href='vscode-notebook-cell:/c%3A/Users/laeti/Documents/EPFL/Master/Cours%20MA1/Mobile%20robotics/Projet/BOMR_Project/main.ipynb#X14sZmlsZQ%3D%3D?line=24'>25</a>\u001b[0m \u001b[39mif\u001b[39;00m check_if_goal_reached(arucos, robot_pos, last_known_goal_pos):\n\u001b[0;32m     <a href='vscode-notebook-cell:/c%3A/Users/laeti/Documents/EPFL/Master/Cours%20MA1/Mobile%20robotics/Projet/BOMR_Project/main.ipynb#X14sZmlsZQ%3D%3D?line=25'>26</a>\u001b[0m     goal_reached\u001b[39m=\u001b[39m\u001b[39mTrue\u001b[39;00m\n\u001b[0;32m     <a href='vscode-notebook-cell:/c%3A/Users/laeti/Documents/EPFL/Master/Cours%20MA1/Mobile%20robotics/Projet/BOMR_Project/main.ipynb#X14sZmlsZQ%3D%3D?line=26'>27</a>\u001b[0m     \u001b[39mprint\u001b[39m(\u001b[39m'\u001b[39m\u001b[39mGoal reached\u001b[39m\u001b[39m'\u001b[39m)\n",
      "\u001b[1;31mTypeError\u001b[0m: check_if_goal_reached() takes 2 positional arguments but 3 were given"
     ]
    }
   ],
   "source": [
    "#vision init\n",
    "cap = cv2.VideoCapture(0)\n",
    "\n",
    "grid_resolution = 25\n",
    "\n",
    "last_known_goal_pos = (0, 0)\n",
    "\n",
    "if cap.isOpened():\n",
    "    print(\"Camera OK\")\n",
    "else:\n",
    "    print(\"Camera NOT OK\")\n",
    "\n",
    "while cap.isOpened():\n",
    "\n",
    "    robot_pos = (0, 0)\n",
    "\n",
    "    frame = cap.read()[1]\n",
    "\n",
    "    frame, arucos, robot_pos, angle = show_robot(frame, grid_resolution)\n",
    "    goal_pos = get_goal_pos(arucos, grid_resolution)\n",
    "\n",
    "    if goal_pos != (0, 0):\n",
    "        last_known_goal_pos = goal_pos\n",
    "\n",
    "    if check_if_goal_reached(arucos, robot_pos, last_known_goal_pos):\n",
    "        goal_reached=True\n",
    "        print('Goal reached')\n",
    "        break\n",
    "\n",
    "    cv2.imshow(\"Videa Stream\", frame)\n",
    "\n",
    "    print(f'Robot position: {robot_pos} and angle: {angle}')\n",
    "    print(f'Goal position: {goal_pos}')\n",
    "    \n",
    "    key = cv2.waitKey(1) & 0xFF\n",
    "    if key == ord(\"q\"):\n",
    "        break    "
   ]
  },
  {
   "cell_type": "code",
   "execution_count": 16,
   "metadata": {},
   "outputs": [
    {
     "name": "stdout",
     "output_type": "stream",
     "text": [
      "camera open\n"
     ]
    },
    {
     "ename": "TypeError",
     "evalue": "Map.__init__() missing 1 required positional argument: 'obstacles'",
     "output_type": "error",
     "traceback": [
      "\u001b[1;31m---------------------------------------------------------------------------\u001b[0m",
      "\u001b[1;31mTypeError\u001b[0m                                 Traceback (most recent call last)",
      "\u001b[1;32mc:\\Users\\laeti\\Documents\\EPFL\\Master\\Cours MA1\\Mobile robotics\\Projet\\BOMR_Project\\main.ipynb Cell 3\u001b[0m line \u001b[0;36m1\n\u001b[0;32m      <a href='vscode-notebook-cell:/c%3A/Users/laeti/Documents/EPFL/Master/Cours%20MA1/Mobile%20robotics/Projet/BOMR_Project/main.ipynb#W2sZmlsZQ%3D%3D?line=7'>8</a>\u001b[0m detect_thymio\u001b[39m=\u001b[39m\u001b[39mFalse\u001b[39;00m\n\u001b[0;32m      <a href='vscode-notebook-cell:/c%3A/Users/laeti/Documents/EPFL/Master/Cours%20MA1/Mobile%20robotics/Projet/BOMR_Project/main.ipynb#W2sZmlsZQ%3D%3D?line=8'>9</a>\u001b[0m obstacles \u001b[39m=\u001b[39m Obstacle(\u001b[39m.\u001b[39m\u001b[39m.\u001b[39m\u001b[39m.\u001b[39m)\n\u001b[1;32m---> <a href='vscode-notebook-cell:/c%3A/Users/laeti/Documents/EPFL/Master/Cours%20MA1/Mobile%20robotics/Projet/BOMR_Project/main.ipynb#W2sZmlsZQ%3D%3D?line=9'>10</a>\u001b[0m \u001b[39mmap\u001b[39m \u001b[39m=\u001b[39m Map(\u001b[39m.\u001b[39;49m\u001b[39m.\u001b[39;49m\u001b[39m.\u001b[39;49m)\n\u001b[0;32m     <a href='vscode-notebook-cell:/c%3A/Users/laeti/Documents/EPFL/Master/Cours%20MA1/Mobile%20robotics/Projet/BOMR_Project/main.ipynb#W2sZmlsZQ%3D%3D?line=10'>11</a>\u001b[0m robot \u001b[39m=\u001b[39m Robot(\u001b[39m.\u001b[39m\u001b[39m.\u001b[39m\u001b[39m.\u001b[39m)\n\u001b[0;32m     <a href='vscode-notebook-cell:/c%3A/Users/laeti/Documents/EPFL/Master/Cours%20MA1/Mobile%20robotics/Projet/BOMR_Project/main.ipynb#W2sZmlsZQ%3D%3D?line=11'>12</a>\u001b[0m env \u001b[39m=\u001b[39m Environment(\u001b[39m.\u001b[39m\u001b[39m.\u001b[39m\u001b[39m.\u001b[39m)\n",
      "\u001b[1;31mTypeError\u001b[0m: Map.__init__() missing 1 required positional argument: 'obstacles'"
     ]
    }
   ],
   "source": [
    "##Open camera\n",
    "cam = cv.VideoCapture(0, cv.CAP_DSHOW)\n",
    "cam.set(cv.CAP_PROP_FRAME_WIDTH, 1280)\n",
    "cam.set(cv.CAP_PROP_FRAME_HEIGHT, 720)\n",
    "print(\"camera open\")\n",
    "\n",
    "# Vision initialisation\n",
    "detect_thymio=False\n",
    "obstacles = Obstacle(...)\n",
    "map = Map(...)\n",
    "robot = Robot(...)\n",
    "env = Environment(...)\n",
    "path = calculate_path(env, size_thymio)\n",
    "image_circuit=camera(...)\n",
    "print(\"get image done\")\n",
    "\n",
    "\n",
    "#path calculation\n",
    "\n",
    "cv.imwrite(\"image_circuit_png\", image_circuit)\n",
    "start = Robot.position\n",
    "goal= Environment.goal\n",
    "\n",
    "print(\"path calculation done\")\n",
    "\n",
    "\n",
    "# Thymio initialisation\n",
    "\n",
    "thymio = Thymio()\n",
    "kalman = Kalman(start)\n",
    "\n",
    "print(\"initialisation Thymio done\")"
   ]
  },
  {
   "cell_type": "code",
   "execution_count": 17,
   "metadata": {},
   "outputs": [
    {
     "name": "stdout",
     "output_type": "stream",
     "text": [
      "Connected to Thymio !\n"
     ]
    }
   ],
   "source": [
    "thymio = Thymio()\n"
   ]
  },
  {
   "cell_type": "code",
   "execution_count": 18,
   "metadata": {},
   "outputs": [
    {
     "name": "stdout",
     "output_type": "stream",
     "text": [
      "Start Main\n"
     ]
    },
    {
     "ename": "NameError",
     "evalue": "name 'kalman' is not defined",
     "output_type": "error",
     "traceback": [
      "\u001b[1;31m---------------------------------------------------------------------------\u001b[0m",
      "\u001b[1;31mNameError\u001b[0m                                 Traceback (most recent call last)",
      "\u001b[1;32mc:\\Users\\laeti\\Documents\\EPFL\\Master\\Cours MA1\\Mobile robotics\\Projet\\BOMR_Project\\main.ipynb Cell 5\u001b[0m line \u001b[0;36m2\n\u001b[0;32m     <a href='vscode-notebook-cell:/c%3A/Users/laeti/Documents/EPFL/Master/Cours%20MA1/Mobile%20robotics/Projet/BOMR_Project/main.ipynb#W3sZmlsZQ%3D%3D?line=14'>15</a>\u001b[0m \u001b[39m#init loop\u001b[39;00m\n\u001b[0;32m     <a href='vscode-notebook-cell:/c%3A/Users/laeti/Documents/EPFL/Master/Cours%20MA1/Mobile%20robotics/Projet/BOMR_Project/main.ipynb#W3sZmlsZQ%3D%3D?line=15'>16</a>\u001b[0m \u001b[39mwhile\u001b[39;00m \u001b[39mTrue\u001b[39;00m:\n\u001b[0;32m     <a href='vscode-notebook-cell:/c%3A/Users/laeti/Documents/EPFL/Master/Cours%20MA1/Mobile%20robotics/Projet/BOMR_Project/main.ipynb#W3sZmlsZQ%3D%3D?line=16'>17</a>\u001b[0m \n\u001b[0;32m     <a href='vscode-notebook-cell:/c%3A/Users/laeti/Documents/EPFL/Master/Cours%20MA1/Mobile%20robotics/Projet/BOMR_Project/main.ipynb#W3sZmlsZQ%3D%3D?line=17'>18</a>\u001b[0m     \n\u001b[1;32m   (...)\u001b[0m\n\u001b[0;32m     <a href='vscode-notebook-cell:/c%3A/Users/laeti/Documents/EPFL/Master/Cours%20MA1/Mobile%20robotics/Projet/BOMR_Project/main.ipynb#W3sZmlsZQ%3D%3D?line=22'>23</a>\u001b[0m     \n\u001b[0;32m     <a href='vscode-notebook-cell:/c%3A/Users/laeti/Documents/EPFL/Master/Cours%20MA1/Mobile%20robotics/Projet/BOMR_Project/main.ipynb#W3sZmlsZQ%3D%3D?line=23'>24</a>\u001b[0m     \u001b[39m###############################Kalman Filter####################################\u001b[39;00m\n\u001b[1;32m---> <a href='vscode-notebook-cell:/c%3A/Users/laeti/Documents/EPFL/Master/Cours%20MA1/Mobile%20robotics/Projet/BOMR_Project/main.ipynb#W3sZmlsZQ%3D%3D?line=25'>26</a>\u001b[0m     kalman\u001b[39m.\u001b[39mupdate_robot(kalman, robot, thymio\u001b[39m.\u001b[39mtarget, thymio\u001b[39m.\u001b[39mmotors, detect_thymio)\n\u001b[0;32m     <a href='vscode-notebook-cell:/c%3A/Users/laeti/Documents/EPFL/Master/Cours%20MA1/Mobile%20robotics/Projet/BOMR_Project/main.ipynb#W3sZmlsZQ%3D%3D?line=28'>29</a>\u001b[0m     \u001b[39m######################################## Global Navigation ################################    \u001b[39;00m\n\u001b[0;32m     <a href='vscode-notebook-cell:/c%3A/Users/laeti/Documents/EPFL/Master/Cours%20MA1/Mobile%20robotics/Projet/BOMR_Project/main.ipynb#W3sZmlsZQ%3D%3D?line=29'>30</a>\u001b[0m \n\u001b[0;32m     <a href='vscode-notebook-cell:/c%3A/Users/laeti/Documents/EPFL/Master/Cours%20MA1/Mobile%20robotics/Projet/BOMR_Project/main.ipynb#W3sZmlsZQ%3D%3D?line=30'>31</a>\u001b[0m     \u001b[39m#Compute where to go\u001b[39;00m\n\u001b[1;32m   (...)\u001b[0m\n\u001b[0;32m     <a href='vscode-notebook-cell:/c%3A/Users/laeti/Documents/EPFL/Master/Cours%20MA1/Mobile%20robotics/Projet/BOMR_Project/main.ipynb#W3sZmlsZQ%3D%3D?line=35'>36</a>\u001b[0m \n\u001b[0;32m     <a href='vscode-notebook-cell:/c%3A/Users/laeti/Documents/EPFL/Master/Cours%20MA1/Mobile%20robotics/Projet/BOMR_Project/main.ipynb#W3sZmlsZQ%3D%3D?line=36'>37</a>\u001b[0m     \u001b[39m######################################## Local Navigation/Motion ################################\u001b[39;00m\n\u001b[0;32m     <a href='vscode-notebook-cell:/c%3A/Users/laeti/Documents/EPFL/Master/Cours%20MA1/Mobile%20robotics/Projet/BOMR_Project/main.ipynb#W3sZmlsZQ%3D%3D?line=38'>39</a>\u001b[0m     distance_tot \u001b[39m=\u001b[39m Point\u001b[39m.\u001b[39mdist(prev_point_to_go, point_to_go)\n",
      "\u001b[1;31mNameError\u001b[0m: name 'kalman' is not defined"
     ]
    }
   ],
   "source": [
    "##main\n",
    "\n",
    "print(\"Start Main\")\n",
    "\n",
    "distance = 0\n",
    "point_to_go = [0, 0]\n",
    "prev_point_to_go = [0,0]\n",
    "actual_point = 0\n",
    "\n",
    "start_time = None\n",
    "time_period = 0.1 #[10ms]\n",
    "\n",
    "goal_reached = False\n",
    "\n",
    "#init loop\n",
    "while True:\n",
    "\n",
    "    \n",
    "    ######################################## VISION ################################\n",
    "    \n",
    "    while cap.isOpened():\n",
    "\n",
    "        robot_pos = (0, 0)\n",
    "\n",
    "        frame = cap.read()[1]\n",
    "\n",
    "        frame, arucos, robot_pos, angle = show_robot(frame, grid_resolution)\n",
    "        goal_pos = get_goal_pos(arucos, grid_resolution)\n",
    "\n",
    "        if goal_pos != (0, 0):\n",
    "            last_known_goal_pos = goal_pos\n",
    "\n",
    "        if check_if_goal_reached(robot_pos, last_known_goal_pos):\n",
    "            print('Goal reached')\n",
    "            break\n",
    "\n",
    "        cv2.imshow(\"Videa Stream\", frame)\n",
    "\n",
    "        print(f'Robot position: {robot_pos} and angle: {angle}')\n",
    "        print(f'Goal position: {goal_pos}')\n",
    "        \n",
    "        key = cv2.waitKey(1) & 0xFF\n",
    "        if key == ord(\"q\"):\n",
    "            break    \n",
    "        \n",
    "    \n",
    "    \n",
    "    \n",
    "    \n",
    "    \n",
    "    \n",
    "    \n",
    "    \n",
    "    ###############################Kalman Filter####################################\n",
    "    \n",
    "    kalman.update_robot(kalman, robot, thymio.target, thymio.motors, detect_thymio)\n",
    "\n",
    "\n",
    "    ######################################## Global Navigation ################################    \n",
    "\n",
    "    #Compute where to go\n",
    "\n",
    "\n",
    "\n",
    "\n",
    "\n",
    "    ######################################## Local Navigation/Motion ################################\n",
    "    \n",
    "    distance_tot = Point.dist(prev_point_to_go, point_to_go)\n",
    "\n",
    "    #need to define distance and distance_total\n",
    "    Kp_alpha, Kp_dir = controller(distance, distance_tot)\n",
    "\n",
    "    direction_degrees = robot.direction * 180 / math.pi #convert radian to degrees\n",
    "\n",
    "    # Compute motors speed orientation and avoidance\n",
    "    motor_L,motor_R= compute_velocity(robot.position, point_to_go, Kp_alpha, Kp_dir, direction_degrees, goal_reached)\n",
    "\n",
    "    # Compute obstacle avoidance speed\n",
    "    obstacle_detected, left_obstacle, right_obstacle = obstacle_avoidance(thymio.sensors[:4])\n",
    "    if obstacle_detected : \n",
    "        motor_L+=v_obstacle\n",
    "        motor_R-=v_obstacle\n",
    "\n",
    "    thymio.set_variable(Motors(motor_L,motor_R))\n",
    "\n",
    "\n",
    "########################################STOP############################################\n",
    "    if keyboard.is_pressed('esc'):\n",
    "        break # Press esc to quit\n",
    "\n",
    "print(\"End Main\")"
   ]
  },
  {
   "cell_type": "code",
   "execution_count": 19,
   "metadata": {},
   "outputs": [],
   "source": [
    "#stop the robot\n",
    "thymio.stop()\n",
    "\n",
    "#deconnect the camera\n",
    "cap.release()\n",
    "cv.destroyAllWindows()"
   ]
  },
  {
   "cell_type": "markdown",
   "metadata": {},
   "source": [
    "## STOP"
   ]
  }
 ],
 "metadata": {
  "kernelspec": {
   "display_name": "Python 3",
   "language": "python",
   "name": "python3"
  },
  "language_info": {
   "codemirror_mode": {
    "name": "ipython",
    "version": 3
   },
   "file_extension": ".py",
   "mimetype": "text/x-python",
   "name": "python",
   "nbconvert_exporter": "python",
   "pygments_lexer": "ipython3",
   "version": "3.8.18"
  }
 },
 "nbformat": 4,
 "nbformat_minor": 2
}
