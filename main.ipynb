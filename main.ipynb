{
 "cells": [
  {
   "cell_type": "code",
   "execution_count": 2,
   "metadata": {},
   "outputs": [],
   "source": [
    "#import\n",
    "from timeit import default_timer as timer\n",
    "from tdmclient import ClientAsync, aw\n",
    "import time\n",
    "import cv2 as cv\n",
    "import keyboard\n",
    "\n",
    "from Codes.utils.data import *\n",
    "from Codes.utils.communication import *\n",
    "from Codes.kalman_filter import *\n",
    "from Codes.motion_control import *\n",
    "from Codes.obstacle_avoidance import *"
   ]
  },
  {
   "cell_type": "code",
   "execution_count": 3,
   "metadata": {},
   "outputs": [],
   "source": [
    "#pip install keyboard\n",
    "#pip install opencv-python"
   ]
  },
  {
   "cell_type": "code",
   "execution_count": null,
   "metadata": {},
   "outputs": [],
   "source": [
    "##Open camera\n",
    "cam = cv.VideoCapture(0, cv.CAP_DSHOW)\n",
    "cam.set(cv.CAP_PROP_FRAME_WIDTH, 1280)\n",
    "cam.set(cv.CAP_PROP_FRAME_HEIGHT, 720)\n",
    "print(\"camera open\")\n",
    "\n",
    "# Vision initialisation\n",
    "\n",
    "obstacles = Obstacle(...)\n",
    "map = Map(...)\n",
    "robot = Robot(...)\n",
    "env = Environment(...)\n",
    "path = calculate_path(env, size_thymio)\n",
    "image_circuit=camera(...)\n",
    "print(\"get image done\")\n",
    "\n",
    "\n",
    "#path calculation\n",
    "\n",
    "cv.imwrite(\"image_circuit_png\", image_circuit)\n",
    "start = Robot.position\n",
    "goal= Environment.goal\n",
    "\n",
    "print(\"path calculation done\")\n",
    "\n",
    "\n",
    "# Thymio initialisation\n",
    "\n",
    "thymio = Thymio()\n",
    "kalman = Kalman(start)\n",
    "\n",
    "print(\"initialisation Thymio done\")"
   ]
  },
  {
   "cell_type": "code",
   "execution_count": 18,
   "metadata": {},
   "outputs": [
    {
     "name": "stdout",
     "output_type": "stream",
     "text": [
      "Start Main\n"
     ]
    },
    {
     "ename": "AttributeError",
     "evalue": "'list' object has no attribute 'pos'",
     "output_type": "error",
     "traceback": [
      "\u001b[1;31m---------------------------------------------------------------------------\u001b[0m",
      "\u001b[1;31mAttributeError\u001b[0m                            Traceback (most recent call last)",
      "\u001b[1;32mc:\\Users\\laeti\\Documents\\EPFL\\Master\\Cours MA1\\Mobile robotics\\Projet\\BOMR_Project\\main2.ipynb Cell 4\u001b[0m line \u001b[0;36m3\n\u001b[0;32m     <a href='vscode-notebook-cell:/c%3A/Users/laeti/Documents/EPFL/Master/Cours%20MA1/Mobile%20robotics/Projet/BOMR_Project/main2.ipynb#W2sZmlsZQ%3D%3D?line=15'>16</a>\u001b[0m \u001b[39m#init loop\u001b[39;00m\n\u001b[0;32m     <a href='vscode-notebook-cell:/c%3A/Users/laeti/Documents/EPFL/Master/Cours%20MA1/Mobile%20robotics/Projet/BOMR_Project/main2.ipynb#W2sZmlsZQ%3D%3D?line=16'>17</a>\u001b[0m \u001b[39mwhile\u001b[39;00m \u001b[39mTrue\u001b[39;00m:\n\u001b[0;32m     <a href='vscode-notebook-cell:/c%3A/Users/laeti/Documents/EPFL/Master/Cours%20MA1/Mobile%20robotics/Projet/BOMR_Project/main2.ipynb#W2sZmlsZQ%3D%3D?line=17'>18</a>\u001b[0m \n\u001b[0;32m     <a href='vscode-notebook-cell:/c%3A/Users/laeti/Documents/EPFL/Master/Cours%20MA1/Mobile%20robotics/Projet/BOMR_Project/main2.ipynb#W2sZmlsZQ%3D%3D?line=18'>19</a>\u001b[0m     \n\u001b[1;32m   (...)\u001b[0m\n\u001b[0;32m     <a href='vscode-notebook-cell:/c%3A/Users/laeti/Documents/EPFL/Master/Cours%20MA1/Mobile%20robotics/Projet/BOMR_Project/main2.ipynb#W2sZmlsZQ%3D%3D?line=34'>35</a>\u001b[0m \n\u001b[0;32m     <a href='vscode-notebook-cell:/c%3A/Users/laeti/Documents/EPFL/Master/Cours%20MA1/Mobile%20robotics/Projet/BOMR_Project/main2.ipynb#W2sZmlsZQ%3D%3D?line=35'>36</a>\u001b[0m     \u001b[39m######################################## Local Navigation/Motion ################################\u001b[39;00m\n\u001b[1;32m---> <a href='vscode-notebook-cell:/c%3A/Users/laeti/Documents/EPFL/Master/Cours%20MA1/Mobile%20robotics/Projet/BOMR_Project/main2.ipynb#W2sZmlsZQ%3D%3D?line=37'>38</a>\u001b[0m     distance_tot \u001b[39m=\u001b[39m Point\u001b[39m.\u001b[39;49mdist(prev_point_to_go, point_to_go)\n\u001b[0;32m     <a href='vscode-notebook-cell:/c%3A/Users/laeti/Documents/EPFL/Master/Cours%20MA1/Mobile%20robotics/Projet/BOMR_Project/main2.ipynb#W2sZmlsZQ%3D%3D?line=39'>40</a>\u001b[0m     \u001b[39m#need to define distance and distance_total\u001b[39;00m\n\u001b[0;32m     <a href='vscode-notebook-cell:/c%3A/Users/laeti/Documents/EPFL/Master/Cours%20MA1/Mobile%20robotics/Projet/BOMR_Project/main2.ipynb#W2sZmlsZQ%3D%3D?line=40'>41</a>\u001b[0m     Kp_alpha, Kp_dir \u001b[39m=\u001b[39m controller(distance, distance_tot)\n",
      "File \u001b[1;32mc:\\Users\\laeti\\Documents\\EPFL\\Master\\Cours MA1\\Mobile robotics\\Projet\\BOMR_Project\\Codes\\utils\\data.py:15\u001b[0m, in \u001b[0;36mPoint.dist\u001b[1;34m(self, other)\u001b[0m\n\u001b[0;32m     14\u001b[0m \u001b[39mdef\u001b[39;00m \u001b[39mdist\u001b[39m(\u001b[39mself\u001b[39m, other) \u001b[39m-\u001b[39m\u001b[39m>\u001b[39m \u001b[39mfloat\u001b[39m:\n\u001b[1;32m---> 15\u001b[0m     \u001b[39mreturn\u001b[39;00m np\u001b[39m.\u001b[39mlinalg\u001b[39m.\u001b[39mnorm(\u001b[39mself\u001b[39;49m\u001b[39m.\u001b[39;49mpos() \u001b[39m-\u001b[39m other\u001b[39m.\u001b[39mpos())\n",
      "\u001b[1;31mAttributeError\u001b[0m: 'list' object has no attribute 'pos'"
     ]
    }
   ],
   "source": [
    "##main\n",
    "\n",
    "print(\"Start Main\")\n",
    "\n",
    "distance = 0\n",
    "point_to_go = [0, 0]\n",
    "prev_point_to_go = [0,0]\n",
    "actual_point = 0\n",
    "\n",
    "start_time = None\n",
    "timer = 0.1\n",
    "\n",
    "\n",
    "goal_reached = False\n",
    "\n",
    "#init loop\n",
    "while True:\n",
    "\n",
    "    \n",
    "\n",
    "\n",
    "\n",
    "    ######################################## VISION ################################\n",
    "    \n",
    "\n",
    "\n",
    "\n",
    "    ######################################## Global Navigation ################################    \n",
    "\n",
    "    #Compute where to go\n",
    "\n",
    "\n",
    "\n",
    "\n",
    "\n",
    "    ######################################## Local Navigation/Motion ################################\n",
    "    \n",
    "    distance_tot = Point.dist(prev_point_to_go, point_to_go)\n",
    "\n",
    "    #need to define distance and distance_total\n",
    "    Kp_alpha, Kp_dir = controller(distance, distance_tot)\n",
    "\n",
    "    direction_degrees = robot.direction * 180 / math.pi\n",
    "\n",
    "    motor_L,motor_R= compute_velocity(robot.position, point_to_go, Kp_alpha, Kp_dir, direction_degrees, goal_reached)\n",
    "\n",
    "    # Compute and set motors speed\n",
    "    obstacle_detected, left_obstacle, right_obstacle = obstacle_avoidance(thymio.sensors[:4])\n",
    "    if obstacle_detected : \n",
    "        motor_L+=left_obstacle\n",
    "        motor_R+=right_obstacle\n",
    "\n",
    "    thymio.set_variable(Motors(motor_L,motor_R))\n",
    "\n",
    "\n",
    "########################################STOP############################################\n",
    "    if keyboard.is_pressed('esc'):\n",
    "        break # Press esc to quit\n",
    "\n",
    "print(\"End Main\")"
   ]
  },
  {
   "cell_type": "code",
   "execution_count": 33,
   "metadata": {},
   "outputs": [
    {
     "ename": "NameError",
     "evalue": "name 'thymio' is not defined",
     "output_type": "error",
     "traceback": [
      "\u001b[1;31m---------------------------------------------------------------------------\u001b[0m",
      "\u001b[1;31mNameError\u001b[0m                                 Traceback (most recent call last)",
      "\u001b[1;32mc:\\Users\\laeti\\Documents\\EPFL\\Master\\Cours MA1\\Mobile robotics\\Projet\\BOMR_Project\\main2.ipynb Cell 6\u001b[0m line \u001b[0;36m2\n\u001b[0;32m      <a href='vscode-notebook-cell:/c%3A/Users/laeti/Documents/EPFL/Master/Cours%20MA1/Mobile%20robotics/Projet/BOMR_Project/main2.ipynb#X13sZmlsZQ%3D%3D?line=0'>1</a>\u001b[0m \u001b[39m#stop the robot\u001b[39;00m\n\u001b[1;32m----> <a href='vscode-notebook-cell:/c%3A/Users/laeti/Documents/EPFL/Master/Cours%20MA1/Mobile%20robotics/Projet/BOMR_Project/main2.ipynb#X13sZmlsZQ%3D%3D?line=1'>2</a>\u001b[0m thymio\u001b[39m.\u001b[39mstop()\n\u001b[0;32m      <a href='vscode-notebook-cell:/c%3A/Users/laeti/Documents/EPFL/Master/Cours%20MA1/Mobile%20robotics/Projet/BOMR_Project/main2.ipynb#X13sZmlsZQ%3D%3D?line=3'>4</a>\u001b[0m \u001b[39m#deconnect the camera\u001b[39;00m\n\u001b[0;32m      <a href='vscode-notebook-cell:/c%3A/Users/laeti/Documents/EPFL/Master/Cours%20MA1/Mobile%20robotics/Projet/BOMR_Project/main2.ipynb#X13sZmlsZQ%3D%3D?line=4'>5</a>\u001b[0m cam\u001b[39m.\u001b[39mrelease()\n",
      "\u001b[1;31mNameError\u001b[0m: name 'thymio' is not defined"
     ]
    }
   ],
   "source": [
    "#stop the robot\n",
    "thymio.stop()\n",
    "\n",
    "#deconnect the camera\n",
    "cam.release()\n",
    "cv.destroyAllWindows()"
   ]
  },
  {
   "cell_type": "markdown",
   "metadata": {},
   "source": [
    "## STOP"
   ]
  }
 ],
 "metadata": {
  "kernelspec": {
   "display_name": "Python 3",
   "language": "python",
   "name": "python3"
  },
  "language_info": {
   "codemirror_mode": {
    "name": "ipython",
    "version": 3
   },
   "file_extension": ".py",
   "mimetype": "text/x-python",
   "name": "python",
   "nbconvert_exporter": "python",
   "pygments_lexer": "ipython3",
   "version": "3.11.5"
  }
 },
 "nbformat": 4,
 "nbformat_minor": 2
}
