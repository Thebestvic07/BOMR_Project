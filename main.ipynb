{
 "cells": [
  {
   "cell_type": "code",
   "execution_count": null,
   "metadata": {},
   "outputs": [],
   "source": [
    "#pip install keyboard\n",
    "#pip install tdmclient\n",
    "#pip install opencv-python\n",
    "#pip install opencv-contrib-python"
   ]
  },
  {
   "cell_type": "code",
   "execution_count": 15,
   "metadata": {},
   "outputs": [],
   "source": [
    "#import\n",
    "from time import time\n",
    "from tdmclient import ClientAsync, aw\n",
    "import cv2\n",
    "import keyboard\n",
    "import math\n",
    "\n",
    "from Codes.utils.data import *\n",
    "from Codes.utils.communication import *\n",
    "from Codes.kalman_filter import *\n",
    "from Codes.motion_control import *\n",
    "from Codes.obstacle_avoidance import *\n",
    "from Codes.camera import *\n",
    "import cv2.aruco as aruco\n",
    "from Codes.map import *"
   ]
  },
  {
   "cell_type": "code",
   "execution_count": 18,
   "metadata": {},
   "outputs": [
    {
     "ename": "error",
     "evalue": "OpenCV(4.8.1) :-1: error: (-5:Bad argument) in function 'detectMarkers'\n> Overload resolution failed:\n>  - detectMarkers() missing required argument 'dictionary' (pos 2)\n>  - detectMarkers() missing required argument 'dictionary' (pos 2)\n",
     "output_type": "error",
     "traceback": [
      "\u001b[1;31m---------------------------------------------------------------------------\u001b[0m",
      "\u001b[1;31merror\u001b[0m                                     Traceback (most recent call last)",
      "\u001b[1;32mc:\\Users\\vglab\\Documents\\Git\\EPFL\\BOMR_Project\\main.ipynb Cell 3\u001b[0m line \u001b[0;36m1\n\u001b[1;32m----> <a href='vscode-notebook-cell:/c%3A/Users/vglab/Documents/Git/EPFL/BOMR_Project/main.ipynb#W6sZmlsZQ%3D%3D?line=0'>1</a>\u001b[0m cv\u001b[39m.\u001b[39;49maruco\u001b[39m.\u001b[39;49mdetectMarkers(\u001b[39m'\u001b[39;49m\u001b[39mCodes.test.png\u001b[39;49m\u001b[39m'\u001b[39;49m)\n",
      "\u001b[1;31merror\u001b[0m: OpenCV(4.8.1) :-1: error: (-5:Bad argument) in function 'detectMarkers'\n> Overload resolution failed:\n>  - detectMarkers() missing required argument 'dictionary' (pos 2)\n>  - detectMarkers() missing required argument 'dictionary' (pos 2)\n"
     ]
    }
   ],
   "source": [
    "cv.aruco.detectMarkers('Codes.test.png')"
   ]
  },
  {
   "cell_type": "code",
   "execution_count": 6,
   "metadata": {},
   "outputs": [
    {
     "name": "stdout",
     "output_type": "stream",
     "text": [
      "camera open\n"
     ]
    },
    {
     "ename": "TypeError",
     "evalue": "Map.__init__() missing 1 required positional argument: 'obstacles'",
     "output_type": "error",
     "traceback": [
      "\u001b[1;31m---------------------------------------------------------------------------\u001b[0m",
      "\u001b[1;31mTypeError\u001b[0m                                 Traceback (most recent call last)",
      "\u001b[1;32mc:\\Users\\sylva\\OneDrive\\Documents\\EPFL\\BMR\\projet\\__pycache__\\BOMR_Project\\main.ipynb Cell 3\u001b[0m line \u001b[0;36m1\n\u001b[0;32m      <a href='vscode-notebook-cell:/c%3A/Users/sylva/OneDrive/Documents/EPFL/BMR/projet/__pycache__/BOMR_Project/main.ipynb#W2sZmlsZQ%3D%3D?line=6'>7</a>\u001b[0m \u001b[39m# Vision initialisation\u001b[39;00m\n\u001b[0;32m      <a href='vscode-notebook-cell:/c%3A/Users/sylva/OneDrive/Documents/EPFL/BMR/projet/__pycache__/BOMR_Project/main.ipynb#W2sZmlsZQ%3D%3D?line=8'>9</a>\u001b[0m obstacles \u001b[39m=\u001b[39m Obstacle(\u001b[39m.\u001b[39m\u001b[39m.\u001b[39m\u001b[39m.\u001b[39m)\n\u001b[1;32m---> <a href='vscode-notebook-cell:/c%3A/Users/sylva/OneDrive/Documents/EPFL/BMR/projet/__pycache__/BOMR_Project/main.ipynb#W2sZmlsZQ%3D%3D?line=9'>10</a>\u001b[0m \u001b[39mmap\u001b[39m \u001b[39m=\u001b[39m Map(\u001b[39m.\u001b[39m\u001b[39m.\u001b[39m\u001b[39m.\u001b[39m)\n\u001b[0;32m     <a href='vscode-notebook-cell:/c%3A/Users/sylva/OneDrive/Documents/EPFL/BMR/projet/__pycache__/BOMR_Project/main.ipynb#W2sZmlsZQ%3D%3D?line=10'>11</a>\u001b[0m robot \u001b[39m=\u001b[39m Robot(\u001b[39m.\u001b[39m\u001b[39m.\u001b[39m\u001b[39m.\u001b[39m)\n\u001b[0;32m     <a href='vscode-notebook-cell:/c%3A/Users/sylva/OneDrive/Documents/EPFL/BMR/projet/__pycache__/BOMR_Project/main.ipynb#W2sZmlsZQ%3D%3D?line=11'>12</a>\u001b[0m env \u001b[39m=\u001b[39m Environment(\u001b[39m.\u001b[39m\u001b[39m.\u001b[39m\u001b[39m.\u001b[39m)\n",
      "\u001b[1;31mTypeError\u001b[0m: Map.__init__() missing 1 required positional argument: 'obstacles'"
     ]
    }
   ],
   "source": [
    "\n",
    "\n",
    "# Vision initialisation\n",
    "\n",
    "obstacles = Obstacle(...)\n",
    "map = Map(...)\n",
    "robot = Robot(...)\n",
    "env = Environment(...)\n",
    "path = calculate_path(env, size_thymio)\n",
    "image_circuit=camera(...)\n",
    "print(\"get image done\")\n",
    "\n",
    "\n",
    "#path calculation\n",
    "\n",
    "cv.imwrite(\"image_circuit_png\", image_circuit)\n",
    "start = Robot.position\n",
    "goal= Environment.goal\n",
    "\n",
    "print(\"path calculation done\")\n",
    "\n",
    "\n",
    "# Thymio initialisation\n",
    "\n",
    "thymio = Thymio()\n",
    "kalman = Kalman(start)\n",
    "\n",
    "print(\"initialisation Thymio done\")"
   ]
  },
  {
   "cell_type": "code",
   "execution_count": 31,
   "metadata": {},
   "outputs": [],
   "source": [
    "cap = cv2.VideoCapture(2)\n",
    "\n",
    "grid_resolution = 18\n",
    "\n",
    "frame = cap.read()[1]\n",
    "frame, map = apply_grid(frame, grid_resolution)\n",
    "# cv2.imshow(\"INIT\", frame)\n"
   ]
  },
  {
   "cell_type": "code",
   "execution_count": 32,
   "metadata": {},
   "outputs": [
    {
     "name": "stdout",
     "output_type": "stream",
     "text": [
      "Robot position: (6, 6) and angle: None\n",
      "Goal position: (10, 20)\n",
      "Robot position: (6, 6) and angle: None\n",
      "Goal position: (10, 20)\n",
      "Robot position: (6, 6) and angle: None\n",
      "Goal position: (10, 20)\n",
      "Robot position: (6, 6) and angle: None\n",
      "Goal position: (10, 20)\n",
      "Robot position: (6, 6) and angle: None\n",
      "Goal position: (10, 20)\n",
      "Robot position: (6, 6) and angle: None\n",
      "Goal position: (10, 20)\n",
      "Robot position: (6, 6) and angle: None\n",
      "Goal position: (10, 20)\n",
      "Robot position: (6, 6) and angle: None\n",
      "Goal position: (10, 20)\n",
      "Robot position: (6, 6) and angle: None\n",
      "Goal position: (10, 20)\n",
      "Robot position: (6, 6) and angle: None\n",
      "Goal position: (10, 20)\n",
      "Robot position: (6, 6) and angle: None\n",
      "Goal position: (10, 20)\n",
      "Robot position: (6, 6) and angle: None\n",
      "Goal position: (10, 20)\n",
      "Robot position: (6, 6) and angle: None\n",
      "Goal position: (10, 20)\n",
      "Robot position: (6, 6) and angle: None\n",
      "Goal position: (10, 20)\n",
      "Robot position: (6, 6) and angle: None\n",
      "Goal position: (10, 20)\n",
      "Robot position: (6, 6) and angle: None\n",
      "Goal position: (10, 20)\n",
      "Robot position: (6, 6) and angle: None\n",
      "Goal position: (10, 20)\n",
      "Robot position: (6, 6) and angle: None\n",
      "Goal position: (10, 20)\n",
      "Robot position: (6, 6) and angle: None\n",
      "Goal position: (10, 20)\n",
      "Robot position: (6, 6) and angle: None\n",
      "Goal position: (10, 20)\n",
      "Robot position: (6, 6) and angle: None\n",
      "Goal position: (10, 20)\n",
      "Robot position: (6, 6) and angle: None\n",
      "Goal position: (10, 20)\n",
      "Robot position: (6, 6) and angle: None\n",
      "Goal position: (10, 20)\n",
      "Robot position: (6, 6) and angle: None\n",
      "Goal position: (10, 20)\n",
      "Robot position: (6, 6) and angle: None\n",
      "Goal position: (10, 20)\n",
      "Robot position: (6, 6) and angle: None\n",
      "Goal position: (10, 20)\n",
      "Robot position: (6, 6) and angle: None\n",
      "Goal position: (10, 20)\n",
      "Robot position: (6, 6) and angle: None\n",
      "Goal position: (10, 20)\n",
      "Robot position: (6, 6) and angle: None\n",
      "Goal position: (10, 20)\n",
      "Robot position: (6, 6) and angle: None\n",
      "Goal position: (10, 20)\n",
      "Robot position: (6, 6) and angle: None\n",
      "Goal position: (10, 20)\n",
      "Robot position: (6, 6) and angle: None\n",
      "Goal position: (10, 20)\n",
      "Robot position: (6, 6) and angle: None\n",
      "Goal position: (10, 20)\n",
      "Robot position: (6, 6) and angle: None\n",
      "Goal position: (10, 20)\n",
      "Robot position: (6, 6) and angle: None\n",
      "Goal position: (10, 20)\n",
      "Robot position: (6, 6) and angle: None\n",
      "Goal position: (10, 20)\n",
      "Robot position: (6, 6) and angle: None\n",
      "Goal position: (10, 20)\n",
      "Robot position: (6, 6) and angle: None\n",
      "Goal position: (10, 20)\n",
      "Robot position: (6, 6) and angle: None\n",
      "Goal position: (10, 20)\n",
      "Robot position: (6, 6) and angle: None\n",
      "Goal position: (10, 20)\n",
      "Robot position: (6, 6) and angle: None\n",
      "Goal position: (10, 20)\n",
      "Robot position: (6, 6) and angle: None\n",
      "Goal position: (10, 20)\n",
      "Robot position: (6, 6) and angle: None\n",
      "Goal position: (10, 20)\n",
      "Robot position: (6, 6) and angle: None\n",
      "Goal position: (10, 20)\n",
      "Robot position: (6, 6) and angle: None\n",
      "Goal position: (10, 20)\n",
      "Robot position: (6, 6) and angle: None\n",
      "Goal position: (10, 20)\n",
      "Robot position: (6, 6) and angle: None\n",
      "Goal position: (10, 20)\n",
      "Robot position: (6, 6) and angle: None\n",
      "Goal position: (10, 20)\n",
      "Robot position: (6, 6) and angle: None\n",
      "Goal position: (10, 20)\n",
      "Robot position: (6, 6) and angle: None\n",
      "Goal position: (10, 20)\n",
      "Robot position: (6, 6) and angle: None\n",
      "Goal position: (10, 20)\n",
      "Robot position: (6, 6) and angle: None\n",
      "Goal position: (10, 20)\n",
      "Robot position: (6, 6) and angle: None\n",
      "Goal position: (10, 20)\n",
      "Robot position: (6, 6) and angle: None\n",
      "Goal position: (10, 20)\n",
      "Robot position: (6, 6) and angle: None\n",
      "Goal position: (10, 20)\n",
      "Robot position: (6, 6) and angle: None\n",
      "Goal position: (10, 20)\n",
      "Robot position: (6, 6) and angle: None\n",
      "Goal position: (10, 20)\n",
      "Robot position: (6, 6) and angle: None\n",
      "Goal position: (10, 20)\n",
      "Robot position: (6, 6) and angle: None\n",
      "Goal position: (10, 20)\n",
      "Robot position: (6, 6) and angle: None\n",
      "Goal position: (10, 20)\n",
      "Robot position: (6, 6) and angle: None\n",
      "Goal position: (10, 20)\n"
     ]
    },
    {
     "ename": "ValueError",
     "evalue": "all the input arrays must have same number of dimensions, but the array at index 0 has 3 dimension(s) and the array at index 1 has 1 dimension(s)",
     "output_type": "error",
     "traceback": [
      "\u001b[1;31m---------------------------------------------------------------------------\u001b[0m",
      "\u001b[1;31mValueError\u001b[0m                                Traceback (most recent call last)",
      "\u001b[1;32mc:\\Users\\sylva\\OneDrive\\Documents\\EPFL\\BMR\\projet\\__pycache__\\BOMR_Project\\main.ipynb Cell 5\u001b[0m line \u001b[0;36m3\n\u001b[0;32m     <a href='vscode-notebook-cell:/c%3A/Users/sylva/OneDrive/Documents/EPFL/BMR/projet/__pycache__/BOMR_Project/main.ipynb#W6sZmlsZQ%3D%3D?line=34'>35</a>\u001b[0m \u001b[39mif\u001b[39;00m dist_to_checkpoint \u001b[39m<\u001b[39m\u001b[39m=\u001b[39m REACH_TRESH:\n\u001b[0;32m     <a href='vscode-notebook-cell:/c%3A/Users/sylva/OneDrive/Documents/EPFL/BMR/projet/__pycache__/BOMR_Project/main.ipynb#W6sZmlsZQ%3D%3D?line=35'>36</a>\u001b[0m     path\u001b[39m.\u001b[39mpop(\u001b[39m0\u001b[39m)\n\u001b[1;32m---> <a href='vscode-notebook-cell:/c%3A/Users/sylva/OneDrive/Documents/EPFL/BMR/projet/__pycache__/BOMR_Project/main.ipynb#W6sZmlsZQ%3D%3D?line=37'>38</a>\u001b[0m frame,_ \u001b[39m=\u001b[39m apply_grid(frame, grid_resolution)\n\u001b[0;32m     <a href='vscode-notebook-cell:/c%3A/Users/sylva/OneDrive/Documents/EPFL/BMR/projet/__pycache__/BOMR_Project/main.ipynb#W6sZmlsZQ%3D%3D?line=39'>40</a>\u001b[0m \u001b[39mif\u001b[39;00m check_if_goal_reached(arucos, robot_pos, goal_pos):\n\u001b[0;32m     <a href='vscode-notebook-cell:/c%3A/Users/sylva/OneDrive/Documents/EPFL/BMR/projet/__pycache__/BOMR_Project/main.ipynb#W6sZmlsZQ%3D%3D?line=40'>41</a>\u001b[0m     \u001b[39mprint\u001b[39m(\u001b[39m'\u001b[39m\u001b[39mGoal reached\u001b[39m\u001b[39m'\u001b[39m)\n",
      "File \u001b[1;32mc:\\Users\\sylva\\OneDrive\\Documents\\EPFL\\BMR\\projet\\__pycache__\\BOMR_Project\\Codes\\camera.py:104\u001b[0m, in \u001b[0;36mapply_grid\u001b[1;34m(image, grid_resolution)\u001b[0m\n\u001b[0;32m    102\u001b[0m         new_image[y] \u001b[39m=\u001b[39m internal_map[x][y]\n\u001b[0;32m    103\u001b[0m     \u001b[39melse\u001b[39;00m:\n\u001b[1;32m--> 104\u001b[0m         new_image[y] \u001b[39m=\u001b[39m np\u001b[39m.\u001b[39mhstack((new_image[y], internal_map[x][y]))\n\u001b[0;32m    106\u001b[0m \u001b[39mif\u001b[39;00m y\u001b[39m==\u001b[39m\u001b[39m0\u001b[39m:\n\u001b[0;32m    107\u001b[0m     final_image \u001b[39m=\u001b[39m new_image[y]\n",
      "File \u001b[1;32m<__array_function__ internals>:200\u001b[0m, in \u001b[0;36mhstack\u001b[1;34m(*args, **kwargs)\u001b[0m\n",
      "File \u001b[1;32mc:\\Users\\sylva\\Anaconda3\\Lib\\site-packages\\numpy\\core\\shape_base.py:370\u001b[0m, in \u001b[0;36mhstack\u001b[1;34m(tup, dtype, casting)\u001b[0m\n\u001b[0;32m    368\u001b[0m     \u001b[39mreturn\u001b[39;00m _nx\u001b[39m.\u001b[39mconcatenate(arrs, \u001b[39m0\u001b[39m, dtype\u001b[39m=\u001b[39mdtype, casting\u001b[39m=\u001b[39mcasting)\n\u001b[0;32m    369\u001b[0m \u001b[39melse\u001b[39;00m:\n\u001b[1;32m--> 370\u001b[0m     \u001b[39mreturn\u001b[39;00m _nx\u001b[39m.\u001b[39mconcatenate(arrs, \u001b[39m1\u001b[39m, dtype\u001b[39m=\u001b[39mdtype, casting\u001b[39m=\u001b[39mcasting)\n",
      "File \u001b[1;32m<__array_function__ internals>:200\u001b[0m, in \u001b[0;36mconcatenate\u001b[1;34m(*args, **kwargs)\u001b[0m\n",
      "\u001b[1;31mValueError\u001b[0m: all the input arrays must have same number of dimensions, but the array at index 0 has 3 dimension(s) and the array at index 1 has 1 dimension(s)"
     ]
    },
    {
     "ename": "",
     "evalue": "",
     "output_type": "error",
     "traceback": [
      "\u001b[1;31mThe Kernel crashed while executing code in the the current cell or a previous cell. Please review the code in the cell(s) to identify a possible cause of the failure. Click <a href='https://aka.ms/vscodeJupyterKernelCrash'>here</a> for more info. View Jupyter <a href='command:jupyter.viewOutput'>log</a> for further details."
     ]
    }
   ],
   "source": [
    "\n",
    "GLOBAL_PLANNING = True\n",
    "SIZE_THYM = 0 #size of thymio in number of grid\n",
    "LOST_TRESH = 10 #treshold to be considered lost\n",
    "REACH_TRESH = 3 #treshhold to reach current checkpoint\n",
    "goal_pos = (0, 0)\n",
    "\n",
    "\n",
    "path = list()\n",
    "\n",
    "while cap.isOpened():\n",
    " \n",
    "  \n",
    "\n",
    "    robot_pos = (0, 0)\n",
    "\n",
    "    frame = cap.read()[1]\n",
    "\n",
    "    frame, arucos, robot_pos, angle = show_robot(frame, grid_resolution)\n",
    "    # goal_pos = get_goal_pos(arucos, grid_resolution)\n",
    "    robot_pos = (6,6)\n",
    "    goal_pos = (10,20)\n",
    "    cv2.imshow(\"Videa Stream\", frame)\n",
    "    car = Robot(Point(robot_pos[0],robot_pos[1]), angle)\n",
    "    env = Environment(car, map, Point(goal_pos[0], goal_pos[1]))\n",
    "\n",
    "    if GLOBAL_PLANNING:\n",
    "        path = calculate_path(env, SIZE_THYM, False)\n",
    "        GLOBAL_PLANNING = False\n",
    "    \n",
    "    dist_to_checkpoint = car.position.dist(path[0])\n",
    "\n",
    "    if dist_to_checkpoint >= LOST_TRESH:\n",
    "        GLOBAL_PLANNING = True\n",
    "\n",
    "    if dist_to_checkpoint <= REACH_TRESH:\n",
    "        path.pop(0)\n",
    "    \n",
    "    frame,_ = apply_grid(frame, grid_resolution)\n",
    "\n",
    "    if check_if_goal_reached(arucos, robot_pos, goal_pos):\n",
    "        print('Goal reached')\n",
    "        break\n",
    "\n",
    "    for point in path:\n",
    "       cv2.circle(frame, (grid_resolution*point.x, grid_resolution*point.y), 3, (255, 0, 0), -1)     \n",
    "\n",
    "    cv2.circle(frame, tuple(grid_resolution*pos for pos in goal_pos), 5, (0, 0, 255), -1)\n",
    "    cv2.circle(frame, tuple(grid_resolution*pos for pos in robot_pos), 5, (0, 0, 255), -1)\n",
    "\n",
    "    \n",
    "    cv2.imshow(\"Videa Stream\", frame)\n",
    "\n",
    "\n",
    "\n",
    "    print(f'Robot position: {robot_pos} and angle: {angle}')\n",
    "    print(f'Goal position: {goal_pos}')\n",
    "    \n",
    "    key = cv2.waitKey(1) & 0xFF\n",
    "    if key == ord(\"q\"):\n",
    "        break\n",
    "   \n",
    "    \n",
    "\n",
    "cv2.destroyAllWindows()\n",
    "cap.release()\n"
   ]
  },
  {
   "cell_type": "code",
   "execution_count": 11,
   "metadata": {},
   "outputs": [
    {
     "name": "stdout",
     "output_type": "stream",
     "text": [
      "(3, 6)\n"
     ]
    },
    {
     "ename": "TypeError",
     "evalue": "'Point' object is not iterable",
     "output_type": "error",
     "traceback": [
      "\u001b[1;31m---------------------------------------------------------------------------\u001b[0m",
      "\u001b[1;31mTypeError\u001b[0m                                 Traceback (most recent call last)",
      "\u001b[1;32mc:\\Users\\sylva\\OneDrive\\Documents\\EPFL\\BMR\\projet\\__pycache__\\BOMR_Project\\main.ipynb Cell 6\u001b[0m line \u001b[0;36m4\n\u001b[0;32m      <a href='vscode-notebook-cell:/c%3A/Users/sylva/OneDrive/Documents/EPFL/BMR/projet/__pycache__/BOMR_Project/main.ipynb#X10sZmlsZQ%3D%3D?line=1'>2</a>\u001b[0m \u001b[39mprint\u001b[39m(\u001b[39mtuple\u001b[39m(\u001b[39m3\u001b[39m\u001b[39m*\u001b[39mpos \u001b[39mfor\u001b[39;00m pos \u001b[39min\u001b[39;00m last_known_goal_pos))\n\u001b[0;32m      <a href='vscode-notebook-cell:/c%3A/Users/sylva/OneDrive/Documents/EPFL/BMR/projet/__pycache__/BOMR_Project/main.ipynb#X10sZmlsZQ%3D%3D?line=2'>3</a>\u001b[0m p \u001b[39m=\u001b[39m Point(\u001b[39m2\u001b[39m,\u001b[39m1\u001b[39m)\n\u001b[1;32m----> <a href='vscode-notebook-cell:/c%3A/Users/sylva/OneDrive/Documents/EPFL/BMR/projet/__pycache__/BOMR_Project/main.ipynb#X10sZmlsZQ%3D%3D?line=3'>4</a>\u001b[0m \u001b[39mprint\u001b[39m(\u001b[39m2\u001b[39m\u001b[39m*\u001b[39mpos \u001b[39mfor\u001b[39;00m pos \u001b[39min\u001b[39;00m p)\n",
      "\u001b[1;31mTypeError\u001b[0m: 'Point' object is not iterable"
     ]
    }
   ],
   "source": [
    "last_known_goal_pos = (1,2)\n",
    "print(tuple(3*pos for pos in last_known_goal_pos))\n"
   ]
  },
  {
   "cell_type": "code",
   "execution_count": 18,
   "metadata": {},
   "outputs": [
    {
     "name": "stdout",
     "output_type": "stream",
     "text": [
      "Start Main\n"
     ]
    },
    {
     "ename": "AttributeError",
     "evalue": "'list' object has no attribute 'pos'",
     "output_type": "error",
     "traceback": [
      "\u001b[1;31m---------------------------------------------------------------------------\u001b[0m",
      "\u001b[1;31mAttributeError\u001b[0m                            Traceback (most recent call last)",
      "\u001b[1;32mc:\\Users\\laeti\\Documents\\EPFL\\Master\\Cours MA1\\Mobile robotics\\Projet\\BOMR_Project\\main2.ipynb Cell 4\u001b[0m line \u001b[0;36m3\n\u001b[0;32m     <a href='vscode-notebook-cell:/c%3A/Users/laeti/Documents/EPFL/Master/Cours%20MA1/Mobile%20robotics/Projet/BOMR_Project/main2.ipynb#W2sZmlsZQ%3D%3D?line=15'>16</a>\u001b[0m \u001b[39m#init loop\u001b[39;00m\n\u001b[0;32m     <a href='vscode-notebook-cell:/c%3A/Users/laeti/Documents/EPFL/Master/Cours%20MA1/Mobile%20robotics/Projet/BOMR_Project/main2.ipynb#W2sZmlsZQ%3D%3D?line=16'>17</a>\u001b[0m \u001b[39mwhile\u001b[39;00m \u001b[39mTrue\u001b[39;00m:\n\u001b[0;32m     <a href='vscode-notebook-cell:/c%3A/Users/laeti/Documents/EPFL/Master/Cours%20MA1/Mobile%20robotics/Projet/BOMR_Project/main2.ipynb#W2sZmlsZQ%3D%3D?line=17'>18</a>\u001b[0m \n\u001b[0;32m     <a href='vscode-notebook-cell:/c%3A/Users/laeti/Documents/EPFL/Master/Cours%20MA1/Mobile%20robotics/Projet/BOMR_Project/main2.ipynb#W2sZmlsZQ%3D%3D?line=18'>19</a>\u001b[0m     \n\u001b[1;32m   (...)\u001b[0m\n\u001b[0;32m     <a href='vscode-notebook-cell:/c%3A/Users/laeti/Documents/EPFL/Master/Cours%20MA1/Mobile%20robotics/Projet/BOMR_Project/main2.ipynb#W2sZmlsZQ%3D%3D?line=34'>35</a>\u001b[0m \n\u001b[0;32m     <a href='vscode-notebook-cell:/c%3A/Users/laeti/Documents/EPFL/Master/Cours%20MA1/Mobile%20robotics/Projet/BOMR_Project/main2.ipynb#W2sZmlsZQ%3D%3D?line=35'>36</a>\u001b[0m     \u001b[39m######################################## Local Navigation/Motion ################################\u001b[39;00m\n\u001b[1;32m---> <a href='vscode-notebook-cell:/c%3A/Users/laeti/Documents/EPFL/Master/Cours%20MA1/Mobile%20robotics/Projet/BOMR_Project/main2.ipynb#W2sZmlsZQ%3D%3D?line=37'>38</a>\u001b[0m     distance_tot \u001b[39m=\u001b[39m Point\u001b[39m.\u001b[39;49mdist(prev_point_to_go, point_to_go)\n\u001b[0;32m     <a href='vscode-notebook-cell:/c%3A/Users/laeti/Documents/EPFL/Master/Cours%20MA1/Mobile%20robotics/Projet/BOMR_Project/main2.ipynb#W2sZmlsZQ%3D%3D?line=39'>40</a>\u001b[0m     \u001b[39m#need to define distance and distance_total\u001b[39;00m\n\u001b[0;32m     <a href='vscode-notebook-cell:/c%3A/Users/laeti/Documents/EPFL/Master/Cours%20MA1/Mobile%20robotics/Projet/BOMR_Project/main2.ipynb#W2sZmlsZQ%3D%3D?line=40'>41</a>\u001b[0m     Kp_alpha, Kp_dir \u001b[39m=\u001b[39m controller(distance, distance_tot)\n",
      "File \u001b[1;32mc:\\Users\\laeti\\Documents\\EPFL\\Master\\Cours MA1\\Mobile robotics\\Projet\\BOMR_Project\\Codes\\utils\\data.py:15\u001b[0m, in \u001b[0;36mPoint.dist\u001b[1;34m(self, other)\u001b[0m\n\u001b[0;32m     14\u001b[0m \u001b[39mdef\u001b[39;00m \u001b[39mdist\u001b[39m(\u001b[39mself\u001b[39m, other) \u001b[39m-\u001b[39m\u001b[39m>\u001b[39m \u001b[39mfloat\u001b[39m:\n\u001b[1;32m---> 15\u001b[0m     \u001b[39mreturn\u001b[39;00m np\u001b[39m.\u001b[39mlinalg\u001b[39m.\u001b[39mnorm(\u001b[39mself\u001b[39;49m\u001b[39m.\u001b[39;49mpos() \u001b[39m-\u001b[39m other\u001b[39m.\u001b[39mpos())\n",
      "\u001b[1;31mAttributeError\u001b[0m: 'list' object has no attribute 'pos'"
     ]
    }
   ],
   "source": [
    "##main\n",
    "\n",
    "print(\"Start Main\")\n",
    "\n",
    "distance = 0\n",
    "point_to_go = [0, 0]\n",
    "prev_point_to_go = [0,0]\n",
    "actual_point = 0\n",
    "\n",
    "start_time = None\n",
    "timer = 0.1\n",
    "\n",
    "\n",
    "goal_reached = False\n",
    "\n",
    "#init loop\n",
    "while True:\n",
    "\n",
    "    \n",
    "\n",
    "\n",
    "\n",
    "    ######################################## VISION ################################\n",
    "    \n",
    "\n",
    "\n",
    "\n",
    "    ######################################## Global Navigation ################################    \n",
    "\n",
    "    #Compute where to go\n",
    "\n",
    "\n",
    "\n",
    "\n",
    "\n",
    "    ######################################## Local Navigation/Motion ################################\n",
    "    \n",
    "    distance_tot = Point.dist(prev_point_to_go, point_to_go)\n",
    "\n",
    "    #need to define distance and distance_total\n",
    "    Kp_alpha, Kp_dir = controller(distance, distance_tot)\n",
    "\n",
    "\n",
    "    motor_L,motor_R= compute_velocity(robot.position, point_to_go, Kp_alpha, Kp_dir, robot.direction, goal_reached)\n",
    "\n",
    "    # Compute and set motors speed\n",
    "    obstacle_detected, v_obstacle = obstacle_avoidance(thymio.sensors[:4])\n",
    "    if obstacle_detected : \n",
    "        motor_L+=v_obstacle\n",
    "        motor_R-=v_obstacle\n",
    "\n",
    "    thymio.set_variable(Motors(motor_L,motor_R))\n",
    "\n",
    "\n",
    "########################################STOP############################################\n",
    "    if keyboard.is_pressed('esc'):\n",
    "        break # Press esc to quit\n",
    "\n",
    "print(\"End Main\")"
   ]
  },
  {
   "cell_type": "code",
   "execution_count": 33,
   "metadata": {},
   "outputs": [
    {
     "ename": "NameError",
     "evalue": "name 'thymio' is not defined",
     "output_type": "error",
     "traceback": [
      "\u001b[1;31m---------------------------------------------------------------------------\u001b[0m",
      "\u001b[1;31mNameError\u001b[0m                                 Traceback (most recent call last)",
      "\u001b[1;32mc:\\Users\\laeti\\Documents\\EPFL\\Master\\Cours MA1\\Mobile robotics\\Projet\\BOMR_Project\\main2.ipynb Cell 6\u001b[0m line \u001b[0;36m2\n\u001b[0;32m      <a href='vscode-notebook-cell:/c%3A/Users/laeti/Documents/EPFL/Master/Cours%20MA1/Mobile%20robotics/Projet/BOMR_Project/main2.ipynb#X13sZmlsZQ%3D%3D?line=0'>1</a>\u001b[0m \u001b[39m#stop the robot\u001b[39;00m\n\u001b[1;32m----> <a href='vscode-notebook-cell:/c%3A/Users/laeti/Documents/EPFL/Master/Cours%20MA1/Mobile%20robotics/Projet/BOMR_Project/main2.ipynb#X13sZmlsZQ%3D%3D?line=1'>2</a>\u001b[0m thymio\u001b[39m.\u001b[39mstop()\n\u001b[0;32m      <a href='vscode-notebook-cell:/c%3A/Users/laeti/Documents/EPFL/Master/Cours%20MA1/Mobile%20robotics/Projet/BOMR_Project/main2.ipynb#X13sZmlsZQ%3D%3D?line=3'>4</a>\u001b[0m \u001b[39m#deconnect the camera\u001b[39;00m\n\u001b[0;32m      <a href='vscode-notebook-cell:/c%3A/Users/laeti/Documents/EPFL/Master/Cours%20MA1/Mobile%20robotics/Projet/BOMR_Project/main2.ipynb#X13sZmlsZQ%3D%3D?line=4'>5</a>\u001b[0m cam\u001b[39m.\u001b[39mrelease()\n",
      "\u001b[1;31mNameError\u001b[0m: name 'thymio' is not defined"
     ]
    }
   ],
   "source": [
    "#stop the robot\n",
    "thymio.stop()\n",
    "\n",
    "#deconnect the camera\n",
    "cam.release()\n",
    "cv.destroyAllWindows()"
   ]
  },
  {
   "cell_type": "markdown",
   "metadata": {},
   "source": [
    "## STOP"
   ]
  }
 ],
 "metadata": {
  "kernelspec": {
   "display_name": "Python 3",
   "language": "python",
   "name": "python3"
  },
  "language_info": {
   "codemirror_mode": {
    "name": "ipython",
    "version": 3
   },
   "file_extension": ".py",
   "mimetype": "text/x-python",
   "name": "python",
   "nbconvert_exporter": "python",
   "pygments_lexer": "ipython3",
   "version": "3.11.4"
  }
 },
 "nbformat": 4,
 "nbformat_minor": 2
}
