{
 "cells": [
  {
   "cell_type": "markdown",
   "metadata": {},
   "source": [
    "**HELPER FILE TO MAKE SOME TUNING AND ADJUSTMENTS ON THE THYMIO**"
   ]
  },
  {
   "cell_type": "code",
   "execution_count": 9,
   "metadata": {},
   "outputs": [],
   "source": [
    "from tdmclient import ClientAsync, aw\n",
    "import time\n",
    "\n",
    "import numpy as np\n",
    "import math\n",
    "\n",
    "from obstacle_avoidance import *\n",
    "from PIL import Image\n",
    "from utils.data import *\n",
    "from map import *\n",
    "from A_star_alg import *\n",
    "from motion_control import *\n"
   ]
  },
  {
   "cell_type": "code",
   "execution_count": null,
   "metadata": {},
   "outputs": [],
   "source": [
    "client = ClientAsync()\n",
    "node = await client.wait_for_node()\n",
    "aw(node.lock())\n"
   ]
  },
  {
   "cell_type": "code",
   "execution_count": null,
   "metadata": {},
   "outputs": [],
   "source": [
    "#import map from image and set start/goal\n",
    "im = Image.open('b.png', 'r')\n",
    "im = im.convert('L')\n",
    "grid = np.array(im)\n",
    "grid = (grid !=255)*1\n",
    "max_x, max_y = grid.shape[0], grid.shape[1] # Size of the map\n",
    "\n",
    "goal = Point(1,7)\n",
    "start = Point(19,7)\n",
    "base_dir = 0\n",
    "size_thym = 5\n",
    "\n",
    "thym = Robot(start, base_dir)\n",
    "obs = list()\n",
    "for i in range(max_x):\n",
    "    for j in range(max_y):\n",
    "        if grid[i][j]:\n",
    "            obs.append(Point(i,j))\n",
    "\n",
    "corners = [Point(0,0), Point(max_x,0), Point(0, max_y), Point(max_x, max_y)]\n",
    "\n",
    "map = Map(corners, obs)\n",
    "env = Environment(thym, map, goal)\n",
    "\n",
    "path = calculate_path(env, size_thym, False)\n",
    "\n",
    "print(len(path))\n",
    "direction = base_dir\n",
    "for i in range(len(path)-1):\n",
    "    direction = move_step(path[i+1].x-path[i].x, path[i+1].y-path[i].y, direction)"
   ]
  },
  {
   "cell_type": "code",
   "execution_count": 181,
   "metadata": {},
   "outputs": [
    {
     "name": "stdout",
     "output_type": "stream",
     "text": [
      "1.0\n"
     ]
    }
   ],
   "source": [
    "def test_control(pos, goal, orientation):\n",
    "    GAIN = 2\n",
    "    SPEED = 200\n",
    "    METER = 14700\n",
    "\n",
    "    dist = ((goal[0]-pos[0])**2+(goal[1]-pos[1])**2)**(1/2)\n",
    "    if (goal[0]-pos[0]) == 0:\n",
    "        if goal[1]-pos[1] > 0:\n",
    "            angle = 180\n",
    "        else:\n",
    "            angle = 0\n",
    "    else:\n",
    "        angle = 180*((goal[1]-pos[1]) > 0) + math.atan((goal[1]-pos[1])/(goal[0]-pos[0]))/np.pi*180 - orientation\n",
    "    if angle > 180:\n",
    "        angle -= 360\n",
    "    speedR = int(SPEED - GAIN * angle)\n",
    "    speedL = int(SPEED + GAIN * angle)\n",
    "    v = {\n",
    "    \"motor.left.target\": [speedL],\n",
    "    \"motor.right.target\": [speedR],\n",
    "    }\n",
    "    aw(node.set_variables(v))\n",
    "    aw(client.sleep(METER//(10/dist)/1000)) \n",
    "    v = {\n",
    "    \"motor.left.target\": [0],\n",
    "    \"motor.right.target\": [0],\n",
    "    }\n",
    "    aw(node.set_variables(v))\n",
    "        \n",
    "pos = (0,0)\n",
    "goal = (0,1)\n",
    "orient = 0\n",
    "\n",
    "\n",
    "\n",
    "test_control(pos, goal, orient)\n"
   ]
  },
  {
   "cell_type": "code",
   "execution_count": 153,
   "metadata": {},
   "outputs": [],
   "source": [
    "v = {\n",
    "\"motor.left.target\": [0],\n",
    "\"motor.right.target\": [0],\n",
    "}\n",
    "aw(node.set_variables(v))\n"
   ]
  },
  {
   "cell_type": "code",
   "execution_count": 37,
   "metadata": {},
   "outputs": [
    {
     "name": "stdout",
     "output_type": "stream",
     "text": [
      "2.23606797749979\n",
      "26.565051177077986\n"
     ]
    }
   ],
   "source": [
    "goal = (0,0)\n",
    "pos = (2,1)\n",
    "orientation = 0\n",
    "\n",
    "dist = ((goal[0]-pos[0])**2+(goal[1]-pos[1])**2)**(1/2)\n",
    "print(dist)\n",
    "if (goal[0]-pos[0]) == 0:\n",
    "    if goal[1]-pos[1] > 0:\n",
    "        angle = 180\n",
    "    else:\n",
    "        angle = 0\n",
    "else:\n",
    "    angle = 180*((goal[1]-pos[1]) > 0) + math.atan((goal[1]-pos[1])/(goal[0]-pos[0]))/np.pi*180 - orientation\n",
    "if angle > 180:\n",
    "    angle -= 360\n"
   ]
  },
  {
   "cell_type": "code",
   "execution_count": 2,
   "metadata": {},
   "outputs": [
    {
     "data": {
      "text/plain": [
       "{'error_code': 2}"
      ]
     },
     "execution_count": 2,
     "metadata": {},
     "output_type": "execute_result"
    }
   ],
   "source": [
    "await node.unlock()"
   ]
  }
 ],
 "metadata": {
  "kernelspec": {
   "display_name": "base",
   "language": "python",
   "name": "python3"
  },
  "language_info": {
   "codemirror_mode": {
    "name": "ipython",
    "version": 3
   },
   "file_extension": ".py",
   "mimetype": "text/x-python",
   "name": "python",
   "nbconvert_exporter": "python",
   "pygments_lexer": "ipython3",
   "version": "3.11.4"
  }
 },
 "nbformat": 4,
 "nbformat_minor": 2
}
