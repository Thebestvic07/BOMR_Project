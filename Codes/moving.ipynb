{
 "cells": [
  {
   "cell_type": "code",
   "execution_count": 6,
   "metadata": {},
   "outputs": [],
   "source": [
    "from tdmclient import ClientAsync, aw\n",
    "import time\n",
    "\n",
    "import numpy as np\n",
    "import math\n",
    "\n",
    "from obstacle_avoidance import *\n",
    "from PIL import Image\n",
    "from utils.data import *\n",
    "\n"
   ]
  },
  {
   "cell_type": "code",
   "execution_count": null,
   "metadata": {},
   "outputs": [],
   "source": [
    "client = ClientAsync()\n",
    "node = await client.wait_for_node()\n",
    "aw(node.lock())\n"
   ]
  },
  {
   "cell_type": "code",
   "execution_count": 5,
   "metadata": {},
   "outputs": [],
   "source": [
    "#import map from image and set start/goal\n",
    "im = Image.open('b.png', 'r')\n",
    "im = im.convert('L')\n",
    "grid = np.array(im)\n",
    "grid = (grid !=255)*1\n",
    "max_x, max_y = grid.shape[0], grid.shape[1] # Size of the map\n",
    "\n",
    "goal = Point(1,7)\n",
    "start = Point(19,7)\n",
    "base_dir = 0\n",
    "\n",
    "thym = Robot(start, base_dir)\n",
    "\n"
   ]
  },
  {
   "cell_type": "code",
   "execution_count": 120,
   "metadata": {},
   "outputs": [],
   "source": [
    "#movement simple décomposé en rotation et deplacement\n",
    "\n",
    "def turn_angle(angle):\n",
    "    \"turn thymio clockwise to a given angle given in degrees, convert to -180 to 180 degrees, speed is -200;200\"\n",
    "    TURN = 4530 #time in ms to do 360 at -200,200\n",
    "    dir = 1\n",
    "    if angle < 0:\n",
    "        dir = -1\n",
    "        angle = abs(angle)\n",
    "    if angle == 0:\n",
    "        return\n",
    "    timing = TURN//(360/angle)/2\n",
    "    \n",
    "    v = {\n",
    "    \"motor.left.target\": [dir*400],\n",
    "    \"motor.right.target\": [-dir*400],\n",
    "    }\n",
    "    aw(node.set_variables(v) )\n",
    "    aw(client.sleep(timing/1000)) \n",
    "    v = {\n",
    "    \"motor.left.target\": [0],\n",
    "    \"motor.right.target\": [0],\n",
    "    }\n",
    "    aw(node.set_variables(v))\n",
    "\n",
    "def move_forward(dist):\n",
    "    \"move forward a given distance in centimeters\"\n",
    "    METER = 14700 #time in ms to move 1m at 200,200\n",
    "    dir = 1\n",
    "    if dist < 0:\n",
    "        dir = -1\n",
    "        dist = abs(dist)\n",
    "\n",
    "    timing = METER//(100/dist)/2\n",
    "    \n",
    "    \n",
    "    v = {\n",
    "    \"motor.left.target\": [dir*400],\n",
    "    \"motor.right.target\": [dir*400],\n",
    "    }\n",
    "    aw(node.set_variables(v) )\n",
    "    aw(client.sleep(timing/1000)) \n",
    "    v = {\n",
    "    \"motor.left.target\": [0],\n",
    "    \"motor.right.target\": [0],\n",
    "    }\n",
    "    aw(node.set_variables(v))\n",
    "\n",
    "def move_step(next_x, next_y, current_dir):\n",
    "    \"move with given direction in 8 possibilities. Turn first then move\"\n",
    "    dist = 1 #set to 10 cm but depends on size of grid\n",
    "    if next_x != 0 and next_y != 0:\n",
    "        dist *=  2**(1/2)           #if diagonal\n",
    "    \n",
    "    if next_x == 0 and next_y == 1:\n",
    "        angle = 0 - current_dir\n",
    "    elif next_x == 0 and next_y == -1:\n",
    "        angle = 180 - current_dir\n",
    "    elif next_x == 1 and next_y == 1:\n",
    "        angle = 45 - current_dir\n",
    "    elif next_x == 1 and next_y == 0:\n",
    "        angle = 90 - current_dir                \n",
    "    elif next_x == 1 and next_y == -1:\n",
    "        angle = 135 - current_dir\n",
    "    elif next_x == -1 and next_y == 1:\n",
    "        angle = -45 - current_dir\n",
    "    elif next_x == -1 and next_y == 0:\n",
    "        angle = -90 - current_dir   \n",
    "    elif next_x == -1 and next_y == -1:\n",
    "        angle = -135 - current_dir     \n",
    "    \n",
    "    angle %= 360\n",
    "    if angle > 180:\n",
    "        angle -= 360\n",
    "    \n",
    "    turn_angle(angle)\n",
    "    move_forward(dist)\n",
    "    return angle + current_dir\n",
    "\n",
    "\n",
    "#test avec path de map.py\n",
    "path = np.array([[19,18,17,16,15,14,13,12, 11, 10,  9,  8,  7,  6,  5,  4,  3,  2,  1] ,[ 7,  7,  7,  7,  7,  7,  7,  6,  5,  5,  5,  5,  5,  5,  5,  6,  6,  6,  7]])\n",
    "    \n",
    "curr = 0\n",
    "\n",
    "for i in range(path.shape[1]-1):\n",
    "    curr = move_step(path[0][i+1]-path[0][i], path[1][i+1]-path[1][i],curr)\n",
    "    \n",
    "\n"
   ]
  },
  {
   "cell_type": "code",
   "execution_count": 181,
   "metadata": {},
   "outputs": [
    {
     "name": "stdout",
     "output_type": "stream",
     "text": [
      "1.0\n"
     ]
    }
   ],
   "source": [
    "def test_control(pos, goal, orientation):\n",
    "    GAIN = 2\n",
    "    SPEED = 200\n",
    "    METER = 14700\n",
    "\n",
    "    dist = ((goal[0]-pos[0])**2+(goal[1]-pos[1])**2)**(1/2)\n",
    "    print(dist)\n",
    "    if (goal[0]-pos[0]) == 0:\n",
    "        if goal[1]-pos[1] > 0:\n",
    "            angle = 90\n",
    "        else:\n",
    "            angle = -90\n",
    "    else:\n",
    "        angle = 180*((goal[1]-pos[1]) < 0) + math.atan((goal[1]-pos[1])/(goal[0]-pos[0]))/np.pi*180 - orientation\n",
    "        print(angle)\n",
    "    speedR = int(SPEED - GAIN * angle)\n",
    "    speedL = int(SPEED + GAIN * angle)\n",
    "    v = {\n",
    "    \"motor.left.target\": [speedL],\n",
    "    \"motor.right.target\": [speedR],\n",
    "    }\n",
    "    aw(node.set_variables(v))\n",
    "    aw(client.sleep(METER//(10/dist)/1000)) \n",
    "    v = {\n",
    "    \"motor.left.target\": [0],\n",
    "    \"motor.right.target\": [0],\n",
    "    }\n",
    "    aw(node.set_variables(v))\n",
    "        \n",
    "pos = (0,0)\n",
    "goal = (0,1)\n",
    "orient = 0\n",
    "\n",
    "\n",
    "\n",
    "test_control(pos, goal, orient)\n"
   ]
  },
  {
   "cell_type": "code",
   "execution_count": 153,
   "metadata": {},
   "outputs": [],
   "source": [
    "v = {\n",
    "\"motor.left.target\": [0],\n",
    "\"motor.right.target\": [0],\n",
    "}\n",
    "aw(node.set_variables(v))\n"
   ]
  },
  {
   "cell_type": "code",
   "execution_count": null,
   "metadata": {},
   "outputs": [],
   "source": [
    "\n",
    "\n"
   ]
  },
  {
   "cell_type": "code",
   "execution_count": 2,
   "metadata": {},
   "outputs": [
    {
     "data": {
      "text/plain": [
       "{'error_code': 2}"
      ]
     },
     "execution_count": 2,
     "metadata": {},
     "output_type": "execute_result"
    }
   ],
   "source": [
    "await node.unlock()"
   ]
  },
  {
   "cell_type": "code",
   "execution_count": 1,
   "metadata": {},
   "outputs": [
    {
     "ename": "AttributeError",
     "evalue": "'tuple' object has no attribute 'left'",
     "output_type": "error",
     "traceback": [
      "\u001b[1;31m---------------------------------------------------------------------------\u001b[0m",
      "\u001b[1;31mAttributeError\u001b[0m                            Traceback (most recent call last)",
      "\u001b[1;32mc:\\Users\\sylva\\OneDrive\\Documents\\EPFL\\BMR\\projet\\__pycache__\\BOMR_Project\\Codes\\moving.ipynb Cell 7\u001b[0m line \u001b[0;36m2\n\u001b[0;32m      <a href='vscode-notebook-cell:/c%3A/Users/sylva/OneDrive/Documents/EPFL/BMR/projet/__pycache__/BOMR_Project/Codes/moving.ipynb#W6sZmlsZQ%3D%3D?line=0'>1</a>\u001b[0m a \u001b[39m=\u001b[39m (\u001b[39m0\u001b[39m,\u001b[39m0\u001b[39m)\n\u001b[1;32m----> <a href='vscode-notebook-cell:/c%3A/Users/sylva/OneDrive/Documents/EPFL/BMR/projet/__pycache__/BOMR_Project/Codes/moving.ipynb#W6sZmlsZQ%3D%3D?line=1'>2</a>\u001b[0m \u001b[39mprint\u001b[39m(a\u001b[39m.\u001b[39mleft)\n",
      "\u001b[1;31mAttributeError\u001b[0m: 'tuple' object has no attribute 'left'"
     ]
    }
   ],
   "source": []
  },
  {
   "cell_type": "code",
   "execution_count": null,
   "metadata": {},
   "outputs": [],
   "source": []
  }
 ],
 "metadata": {
  "kernelspec": {
   "display_name": "base",
   "language": "python",
   "name": "python3"
  },
  "language_info": {
   "codemirror_mode": {
    "name": "ipython",
    "version": 3
   },
   "file_extension": ".py",
   "mimetype": "text/x-python",
   "name": "python",
   "nbconvert_exporter": "python",
   "pygments_lexer": "ipython3",
   "version": "3.11.4"
  }
 },
 "nbformat": 4,
 "nbformat_minor": 2
}
